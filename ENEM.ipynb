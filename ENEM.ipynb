{
 "cells": [
  {
   "cell_type": "code",
   "execution_count": 1,
   "metadata": {},
   "outputs": [],
   "source": [
    "import pandas as pd\n",
    "import numpy as np"
   ]
  },
  {
   "cell_type": "code",
   "execution_count": 22,
   "metadata": {},
   "outputs": [],
   "source": [
    "dados = pd.read_csv('MICRODADOS_ENEM_2019.csv', sep=';', iterator = True, chunksize=10000, encoding='latin-1')"
   ]
  },
  {
   "cell_type": "code",
   "execution_count": 31,
   "metadata": {
    "scrolled": true
   },
   "outputs": [],
   "source": [
    "dados_brutos = pd.concat(dados, ignore_index = True)"
   ]
  },
  {
   "cell_type": "code",
   "execution_count": 33,
   "metadata": {},
   "outputs": [
    {
     "data": {
      "text/html": [
       "<div>\n",
       "<style scoped>\n",
       "    .dataframe tbody tr th:only-of-type {\n",
       "        vertical-align: middle;\n",
       "    }\n",
       "\n",
       "    .dataframe tbody tr th {\n",
       "        vertical-align: top;\n",
       "    }\n",
       "\n",
       "    .dataframe thead th {\n",
       "        text-align: right;\n",
       "    }\n",
       "</style>\n",
       "<table border=\"1\" class=\"dataframe\">\n",
       "  <thead>\n",
       "    <tr style=\"text-align: right;\">\n",
       "      <th></th>\n",
       "      <th>NU_INSCRICAO</th>\n",
       "      <th>NU_ANO</th>\n",
       "      <th>CO_MUNICIPIO_RESIDENCIA</th>\n",
       "      <th>NO_MUNICIPIO_RESIDENCIA</th>\n",
       "      <th>CO_UF_RESIDENCIA</th>\n",
       "      <th>SG_UF_RESIDENCIA</th>\n",
       "      <th>NU_IDADE</th>\n",
       "      <th>TP_SEXO</th>\n",
       "      <th>TP_ESTADO_CIVIL</th>\n",
       "      <th>TP_COR_RACA</th>\n",
       "      <th>...</th>\n",
       "      <th>Q016</th>\n",
       "      <th>Q017</th>\n",
       "      <th>Q018</th>\n",
       "      <th>Q019</th>\n",
       "      <th>Q020</th>\n",
       "      <th>Q021</th>\n",
       "      <th>Q022</th>\n",
       "      <th>Q023</th>\n",
       "      <th>Q024</th>\n",
       "      <th>Q025</th>\n",
       "    </tr>\n",
       "  </thead>\n",
       "  <tbody>\n",
       "    <tr>\n",
       "      <th>0</th>\n",
       "      <td>190002540656</td>\n",
       "      <td>2019</td>\n",
       "      <td>2613800</td>\n",
       "      <td>São Vicente Férrer</td>\n",
       "      <td>26</td>\n",
       "      <td>PE</td>\n",
       "      <td>15</td>\n",
       "      <td>F</td>\n",
       "      <td>1</td>\n",
       "      <td>2</td>\n",
       "      <td>...</td>\n",
       "      <td>A</td>\n",
       "      <td>A</td>\n",
       "      <td>A</td>\n",
       "      <td>B</td>\n",
       "      <td>B</td>\n",
       "      <td>B</td>\n",
       "      <td>B</td>\n",
       "      <td>A</td>\n",
       "      <td>A</td>\n",
       "      <td>A</td>\n",
       "    </tr>\n",
       "    <tr>\n",
       "      <th>1</th>\n",
       "      <td>190002540657</td>\n",
       "      <td>2019</td>\n",
       "      <td>2610707</td>\n",
       "      <td>Paulista</td>\n",
       "      <td>26</td>\n",
       "      <td>PE</td>\n",
       "      <td>17</td>\n",
       "      <td>F</td>\n",
       "      <td>1</td>\n",
       "      <td>1</td>\n",
       "      <td>...</td>\n",
       "      <td>A</td>\n",
       "      <td>A</td>\n",
       "      <td>A</td>\n",
       "      <td>C</td>\n",
       "      <td>A</td>\n",
       "      <td>A</td>\n",
       "      <td>D</td>\n",
       "      <td>B</td>\n",
       "      <td>B</td>\n",
       "      <td>B</td>\n",
       "    </tr>\n",
       "    <tr>\n",
       "      <th>2</th>\n",
       "      <td>190002540658</td>\n",
       "      <td>2019</td>\n",
       "      <td>2609600</td>\n",
       "      <td>Olinda</td>\n",
       "      <td>26</td>\n",
       "      <td>PE</td>\n",
       "      <td>18</td>\n",
       "      <td>F</td>\n",
       "      <td>1</td>\n",
       "      <td>2</td>\n",
       "      <td>...</td>\n",
       "      <td>B</td>\n",
       "      <td>A</td>\n",
       "      <td>A</td>\n",
       "      <td>B</td>\n",
       "      <td>A</td>\n",
       "      <td>A</td>\n",
       "      <td>E</td>\n",
       "      <td>A</td>\n",
       "      <td>A</td>\n",
       "      <td>B</td>\n",
       "    </tr>\n",
       "    <tr>\n",
       "      <th>3</th>\n",
       "      <td>190002540659</td>\n",
       "      <td>2019</td>\n",
       "      <td>2604106</td>\n",
       "      <td>Caruaru</td>\n",
       "      <td>26</td>\n",
       "      <td>PE</td>\n",
       "      <td>19</td>\n",
       "      <td>F</td>\n",
       "      <td>1</td>\n",
       "      <td>3</td>\n",
       "      <td>...</td>\n",
       "      <td>A</td>\n",
       "      <td>A</td>\n",
       "      <td>A</td>\n",
       "      <td>B</td>\n",
       "      <td>A</td>\n",
       "      <td>A</td>\n",
       "      <td>C</td>\n",
       "      <td>A</td>\n",
       "      <td>A</td>\n",
       "      <td>B</td>\n",
       "    </tr>\n",
       "    <tr>\n",
       "      <th>4</th>\n",
       "      <td>190002540660</td>\n",
       "      <td>2019</td>\n",
       "      <td>2611101</td>\n",
       "      <td>Petrolina</td>\n",
       "      <td>26</td>\n",
       "      <td>PE</td>\n",
       "      <td>19</td>\n",
       "      <td>F</td>\n",
       "      <td>1</td>\n",
       "      <td>5</td>\n",
       "      <td>...</td>\n",
       "      <td>A</td>\n",
       "      <td>A</td>\n",
       "      <td>A</td>\n",
       "      <td>C</td>\n",
       "      <td>A</td>\n",
       "      <td>A</td>\n",
       "      <td>E</td>\n",
       "      <td>A</td>\n",
       "      <td>A</td>\n",
       "      <td>B</td>\n",
       "    </tr>\n",
       "  </tbody>\n",
       "</table>\n",
       "<p>5 rows × 136 columns</p>\n",
       "</div>"
      ],
      "text/plain": [
       "   NU_INSCRICAO  NU_ANO  CO_MUNICIPIO_RESIDENCIA NO_MUNICIPIO_RESIDENCIA  \\\n",
       "0  190002540656    2019                  2613800      São Vicente Férrer   \n",
       "1  190002540657    2019                  2610707                Paulista   \n",
       "2  190002540658    2019                  2609600                  Olinda   \n",
       "3  190002540659    2019                  2604106                 Caruaru   \n",
       "4  190002540660    2019                  2611101               Petrolina   \n",
       "\n",
       "   CO_UF_RESIDENCIA SG_UF_RESIDENCIA  NU_IDADE TP_SEXO  TP_ESTADO_CIVIL  \\\n",
       "0                26               PE        15       F                1   \n",
       "1                26               PE        17       F                1   \n",
       "2                26               PE        18       F                1   \n",
       "3                26               PE        19       F                1   \n",
       "4                26               PE        19       F                1   \n",
       "\n",
       "   TP_COR_RACA  ...  Q016  Q017 Q018  Q019 Q020  Q021  Q022  Q023  Q024  Q025  \n",
       "0            2  ...     A     A    A     B    B     B     B     A     A     A  \n",
       "1            1  ...     A     A    A     C    A     A     D     B     B     B  \n",
       "2            2  ...     B     A    A     B    A     A     E     A     A     B  \n",
       "3            3  ...     A     A    A     B    A     A     C     A     A     B  \n",
       "4            5  ...     A     A    A     C    A     A     E     A     A     B  \n",
       "\n",
       "[5 rows x 136 columns]"
      ]
     },
     "execution_count": 33,
     "metadata": {},
     "output_type": "execute_result"
    }
   ],
   "source": [
    "dados_brutos.head()"
   ]
  },
  {
   "cell_type": "code",
   "execution_count": 35,
   "metadata": {},
   "outputs": [],
   "source": [
    "medias = dados_brutos.groupby([dados_brutos['Q006']])['NU_NOTA_CN', 'NU_NOTA_CH','NU_NOTA_LC','NU_NOTA_MT','NU_NOTA_REDACAO'].mean().dropna()"
   ]
  },
  {
   "cell_type": "code",
   "execution_count": 45,
   "metadata": {},
   "outputs": [
    {
     "data": {
      "text/html": [
       "<div>\n",
       "<style scoped>\n",
       "    .dataframe tbody tr th:only-of-type {\n",
       "        vertical-align: middle;\n",
       "    }\n",
       "\n",
       "    .dataframe tbody tr th {\n",
       "        vertical-align: top;\n",
       "    }\n",
       "\n",
       "    .dataframe thead th {\n",
       "        text-align: right;\n",
       "    }\n",
       "</style>\n",
       "<table border=\"1\" class=\"dataframe\">\n",
       "  <thead>\n",
       "    <tr style=\"text-align: right;\">\n",
       "      <th></th>\n",
       "      <th>NU_NOTA_CN</th>\n",
       "      <th>NU_NOTA_CH</th>\n",
       "      <th>NU_NOTA_LC</th>\n",
       "      <th>NU_NOTA_MT</th>\n",
       "      <th>NU_NOTA_REDACAO</th>\n",
       "    </tr>\n",
       "    <tr>\n",
       "      <th>Q006</th>\n",
       "      <th></th>\n",
       "      <th></th>\n",
       "      <th></th>\n",
       "      <th></th>\n",
       "      <th></th>\n",
       "    </tr>\n",
       "  </thead>\n",
       "  <tbody>\n",
       "    <tr>\n",
       "      <th>A</th>\n",
       "      <td>439.452287</td>\n",
       "      <td>464.080137</td>\n",
       "      <td>482.366140</td>\n",
       "      <td>468.090316</td>\n",
       "      <td>483.544454</td>\n",
       "    </tr>\n",
       "    <tr>\n",
       "      <th>B</th>\n",
       "      <td>443.681879</td>\n",
       "      <td>470.117737</td>\n",
       "      <td>489.479251</td>\n",
       "      <td>474.086284</td>\n",
       "      <td>503.031312</td>\n",
       "    </tr>\n",
       "    <tr>\n",
       "      <th>C</th>\n",
       "      <td>460.210570</td>\n",
       "      <td>489.551173</td>\n",
       "      <td>507.543948</td>\n",
       "      <td>495.066265</td>\n",
       "      <td>532.406066</td>\n",
       "    </tr>\n",
       "    <tr>\n",
       "      <th>D</th>\n",
       "      <td>476.102963</td>\n",
       "      <td>506.494623</td>\n",
       "      <td>521.428487</td>\n",
       "      <td>519.889351</td>\n",
       "      <td>557.030858</td>\n",
       "    </tr>\n",
       "    <tr>\n",
       "      <th>E</th>\n",
       "      <td>481.956253</td>\n",
       "      <td>513.122156</td>\n",
       "      <td>526.906772</td>\n",
       "      <td>528.511378</td>\n",
       "      <td>571.843226</td>\n",
       "    </tr>\n",
       "    <tr>\n",
       "      <th>F</th>\n",
       "      <td>495.427068</td>\n",
       "      <td>525.802366</td>\n",
       "      <td>536.525723</td>\n",
       "      <td>550.444645</td>\n",
       "      <td>594.784496</td>\n",
       "    </tr>\n",
       "    <tr>\n",
       "      <th>G</th>\n",
       "      <td>501.472466</td>\n",
       "      <td>532.378106</td>\n",
       "      <td>541.481817</td>\n",
       "      <td>559.593170</td>\n",
       "      <td>610.302205</td>\n",
       "    </tr>\n",
       "    <tr>\n",
       "      <th>H</th>\n",
       "      <td>515.477179</td>\n",
       "      <td>544.827035</td>\n",
       "      <td>550.352000</td>\n",
       "      <td>580.412074</td>\n",
       "      <td>633.999820</td>\n",
       "    </tr>\n",
       "    <tr>\n",
       "      <th>I</th>\n",
       "      <td>522.227646</td>\n",
       "      <td>551.152810</td>\n",
       "      <td>554.811584</td>\n",
       "      <td>591.519123</td>\n",
       "      <td>648.924664</td>\n",
       "    </tr>\n",
       "    <tr>\n",
       "      <th>J</th>\n",
       "      <td>530.863581</td>\n",
       "      <td>558.926087</td>\n",
       "      <td>560.143434</td>\n",
       "      <td>603.645397</td>\n",
       "      <td>666.203959</td>\n",
       "    </tr>\n",
       "    <tr>\n",
       "      <th>K</th>\n",
       "      <td>535.286320</td>\n",
       "      <td>563.141832</td>\n",
       "      <td>563.007019</td>\n",
       "      <td>610.549497</td>\n",
       "      <td>673.672453</td>\n",
       "    </tr>\n",
       "    <tr>\n",
       "      <th>L</th>\n",
       "      <td>541.092497</td>\n",
       "      <td>568.131924</td>\n",
       "      <td>566.690548</td>\n",
       "      <td>620.768075</td>\n",
       "      <td>684.267317</td>\n",
       "    </tr>\n",
       "    <tr>\n",
       "      <th>M</th>\n",
       "      <td>543.938501</td>\n",
       "      <td>570.713282</td>\n",
       "      <td>568.296276</td>\n",
       "      <td>625.107156</td>\n",
       "      <td>687.448811</td>\n",
       "    </tr>\n",
       "    <tr>\n",
       "      <th>N</th>\n",
       "      <td>550.274493</td>\n",
       "      <td>576.446657</td>\n",
       "      <td>572.167941</td>\n",
       "      <td>636.387550</td>\n",
       "      <td>697.297961</td>\n",
       "    </tr>\n",
       "    <tr>\n",
       "      <th>O</th>\n",
       "      <td>556.917007</td>\n",
       "      <td>582.905883</td>\n",
       "      <td>576.266544</td>\n",
       "      <td>647.692901</td>\n",
       "      <td>709.491374</td>\n",
       "    </tr>\n",
       "    <tr>\n",
       "      <th>P</th>\n",
       "      <td>563.620730</td>\n",
       "      <td>589.165475</td>\n",
       "      <td>580.256518</td>\n",
       "      <td>659.405475</td>\n",
       "      <td>720.294535</td>\n",
       "    </tr>\n",
       "    <tr>\n",
       "      <th>Q</th>\n",
       "      <td>567.436988</td>\n",
       "      <td>593.811594</td>\n",
       "      <td>583.525221</td>\n",
       "      <td>673.994257</td>\n",
       "      <td>728.393420</td>\n",
       "    </tr>\n",
       "  </tbody>\n",
       "</table>\n",
       "</div>"
      ],
      "text/plain": [
       "      NU_NOTA_CN  NU_NOTA_CH  NU_NOTA_LC  NU_NOTA_MT  NU_NOTA_REDACAO\n",
       "Q006                                                                 \n",
       "A     439.452287  464.080137  482.366140  468.090316       483.544454\n",
       "B     443.681879  470.117737  489.479251  474.086284       503.031312\n",
       "C     460.210570  489.551173  507.543948  495.066265       532.406066\n",
       "D     476.102963  506.494623  521.428487  519.889351       557.030858\n",
       "E     481.956253  513.122156  526.906772  528.511378       571.843226\n",
       "F     495.427068  525.802366  536.525723  550.444645       594.784496\n",
       "G     501.472466  532.378106  541.481817  559.593170       610.302205\n",
       "H     515.477179  544.827035  550.352000  580.412074       633.999820\n",
       "I     522.227646  551.152810  554.811584  591.519123       648.924664\n",
       "J     530.863581  558.926087  560.143434  603.645397       666.203959\n",
       "K     535.286320  563.141832  563.007019  610.549497       673.672453\n",
       "L     541.092497  568.131924  566.690548  620.768075       684.267317\n",
       "M     543.938501  570.713282  568.296276  625.107156       687.448811\n",
       "N     550.274493  576.446657  572.167941  636.387550       697.297961\n",
       "O     556.917007  582.905883  576.266544  647.692901       709.491374\n",
       "P     563.620730  589.165475  580.256518  659.405475       720.294535\n",
       "Q     567.436988  593.811594  583.525221  673.994257       728.393420"
      ]
     },
     "execution_count": 45,
     "metadata": {},
     "output_type": "execute_result"
    }
   ],
   "source": [
    "medias"
   ]
  },
  {
   "cell_type": "code",
   "execution_count": 52,
   "metadata": {},
   "outputs": [],
   "source": [
    "labels = ['a', 'b', 'c', 'd', 'e', 'f', 'g', 'h', 'i', 'j', 'k', 'l', 'm', 'n', 'o', 'p', 'q']"
   ]
  },
  {
   "cell_type": "code",
   "execution_count": 54,
   "metadata": {},
   "outputs": [
    {
     "data": {
      "text/plain": [
       "['A',\n",
       " 'B',\n",
       " 'C',\n",
       " 'D',\n",
       " 'E',\n",
       " 'F',\n",
       " 'G',\n",
       " 'H',\n",
       " 'I',\n",
       " 'J',\n",
       " 'K',\n",
       " 'L',\n",
       " 'M',\n",
       " 'N',\n",
       " 'O',\n",
       " 'P',\n",
       " 'Q']"
      ]
     },
     "execution_count": 54,
     "metadata": {},
     "output_type": "execute_result"
    }
   ],
   "source": [
    "labels"
   ]
  },
  {
   "cell_type": "code",
   "execution_count": 40,
   "metadata": {},
   "outputs": [],
   "source": [
    "import matplotlib.pyplot as plt"
   ]
  },
  {
   "cell_type": "code",
   "execution_count": 46,
   "metadata": {},
   "outputs": [],
   "source": [
    "lista_cn = list(medias['NU_NOTA_CN'])\n",
    "lista_ch = list(medias['NU_NOTA_CH'])\n",
    "lista_lc = list(medias['NU_NOTA_LC'])\n",
    "lista_mt = list(medias['NU_NOTA_MT'])\n",
    "lista_media_objetivas = [(g + h + i + q) / 4 for g, h, i, q in zip(lista_cn, lista_ch, lista_lc, lista_mt)]"
   ]
  },
  {
   "cell_type": "code",
   "execution_count": 47,
   "metadata": {},
   "outputs": [
    {
     "data": {
      "text/plain": [
       "[463.4972198154727,\n",
       " 469.34128805301407,\n",
       " 488.0929888928206,\n",
       " 505.97885625700343,\n",
       " 512.6241398505199,\n",
       " 527.0499505574095,\n",
       " 533.7313900306524,\n",
       " 547.76707195995,\n",
       " 554.9277908388717,\n",
       " 563.3946247821438,\n",
       " 567.9961670958983,\n",
       " 574.1707609405726,\n",
       " 577.0138035818367,\n",
       " 583.8191603672223,\n",
       " 590.9455838345565,\n",
       " 598.1120497010912,\n",
       " 604.6920149266789]"
      ]
     },
     "execution_count": 47,
     "metadata": {},
     "output_type": "execute_result"
    }
   ],
   "source": [
    "lista_media_objetivas"
   ]
  },
  {
   "cell_type": "code",
   "execution_count": 48,
   "metadata": {},
   "outputs": [],
   "source": [
    "lista_media_redacao = list(medias['NU_NOTA_REDACAO'])"
   ]
  },
  {
   "cell_type": "code",
   "execution_count": 49,
   "metadata": {},
   "outputs": [
    {
     "data": {
      "text/plain": [
       "[483.5444538056309,\n",
       " 503.03131216672153,\n",
       " 532.4060660471515,\n",
       " 557.0308579280679,\n",
       " 571.8432262430829,\n",
       " 594.7844957049318,\n",
       " 610.3022053127991,\n",
       " 633.9998195730442,\n",
       " 648.9246643325371,\n",
       " 666.203958529689,\n",
       " 673.6724526718758,\n",
       " 684.2673173376711,\n",
       " 687.4488113233475,\n",
       " 697.297960952358,\n",
       " 709.4913741820345,\n",
       " 720.2945345179244,\n",
       " 728.3934200418532]"
      ]
     },
     "execution_count": 49,
     "metadata": {},
     "output_type": "execute_result"
    }
   ],
   "source": [
    "lista_media_redacao"
   ]
  },
  {
   "cell_type": "code",
   "execution_count": 55,
   "metadata": {},
   "outputs": [
    {
     "data": {
      "image/png": "[encoded data removed]",
      "text/plain": [
       "<Figure size 432x288 with 1 Axes>"
      ]
     },
     "metadata": {
      "needs_background": "light"
     },
     "output_type": "display_data"
    }
   ],
   "source": [
    "x = np.arange(len(labels))  # the label locations\n",
    "width = 0.35\n",
    "\n",
    "fig, ax = plt.subplots()\n",
    "rects1 = ax.bar(x - width/2, lista_media_redacao, width, label='Redação')\n",
    "rects2 = ax.bar(x + width/2, lista_media_objetivas, width, label='Objetivas')\n",
    "\n",
    "# Add some text for labels, title and custom x-axis tick labels, etc.\n",
    "ax.set_ylabel('Nota')\n",
    "ax.set_title('Nota Média no ENEM 2019 por Renda')\n",
    "ax.set_xticks(x)\n",
    "ax.set_xticklabels(labels)\n",
    "ax.legend()\n",
    "\n",
    "\n",
    "\n",
    "\n",
    "fig.tight_layout()\n",
    "\n",
    "plt.show()"
   ]
  },
  {
   "cell_type": "code",
   "execution_count": 127,
   "metadata": {},
   "outputs": [],
   "source": [
    "temp = 0\n",
    "lista_media_agregada = []"
   ]
  },
  {
   "cell_type": "code",
   "execution_count": 128,
   "metadata": {},
   "outputs": [],
   "source": [
    "for i in range(len(lista_media_redacao)):\n",
    "    if (i+1)%4 == 0:\n",
    "        temp += lista_media_redacao[i]\n",
    "        lista_media_agregada.append(temp/4)\n",
    "        temp=0\n",
    "    else:\n",
    "        temp += lista_media_redacao[i]"
   ]
  },
  {
   "cell_type": "code",
   "execution_count": 129,
   "metadata": {},
   "outputs": [
    {
     "data": {
      "text/plain": [
       "[519.0031724868929, 602.7324367084645, 668.2670982179433, 703.6331702439161]"
      ]
     },
     "execution_count": 129,
     "metadata": {},
     "output_type": "execute_result"
    }
   ],
   "source": [
    "lista_media_agregada"
   ]
  },
  {
   "cell_type": "code",
   "execution_count": 130,
   "metadata": {},
   "outputs": [
    {
     "name": "stdout",
     "output_type": "stream",
     "text": [
      "1420.9314967613072\n",
      "1573.4054804385817\n",
      "1686.3185827169136\n",
      "1751.7785477836155\n"
     ]
    }
   ],
   "source": [
    "temp2=0\n",
    "lista_media_agregada_obj = []\n",
    "for i in range(len(lista_media_objetivas)):\n",
    "    if (i+1)%4 == 0:\n",
    "        print(temp2)\n",
    "        temp2 += lista_media_objetivas[i]\n",
    "        lista_media_agregada_obj.append(temp2/4)\n",
    "        temp2=0\n",
    "    else:\n",
    "        temp2 += lista_media_objetivas[i]"
   ]
  },
  {
   "cell_type": "code",
   "execution_count": 134,
   "metadata": {},
   "outputs": [],
   "source": [
    "lista_media_agregada_obj.append(temp2)"
   ]
  },
  {
   "cell_type": "code",
   "execution_count": 132,
   "metadata": {},
   "outputs": [
    {
     "data": {
      "text/plain": [
       "604.6920149266789"
      ]
     },
     "execution_count": 132,
     "metadata": {},
     "output_type": "execute_result"
    }
   ],
   "source": [
    "temp2"
   ]
  },
  {
   "cell_type": "code",
   "execution_count": 135,
   "metadata": {},
   "outputs": [],
   "source": [
    "lista_media_agregada.append(temp)"
   ]
  },
  {
   "cell_type": "code",
   "execution_count": 136,
   "metadata": {},
   "outputs": [
    {
     "data": {
      "text/plain": [
       "[481.72758825457765,\n",
       " 530.2931380996329,\n",
       " 565.1223359143715,\n",
       " 587.4726493711767,\n",
       " 604.6920149266789]"
      ]
     },
     "execution_count": 136,
     "metadata": {},
     "output_type": "execute_result"
    }
   ],
   "source": [
    "lista_media_agregada_obj"
   ]
  },
  {
   "cell_type": "code",
   "execution_count": 137,
   "metadata": {},
   "outputs": [
    {
     "data": {
      "text/plain": [
       "[519.0031724868929,\n",
       " 602.7324367084645,\n",
       " 668.2670982179433,\n",
       " 703.6331702439161,\n",
       " 728.3934200418532]"
      ]
     },
     "execution_count": 137,
     "metadata": {},
     "output_type": "execute_result"
    }
   ],
   "source": [
    "lista_media_agregada"
   ]
  },
  {
   "cell_type": "code",
   "execution_count": 143,
   "metadata": {},
   "outputs": [
    {
     "data": {
      "image/png": "[encoded data removed]",
      "text/plain": [
       "<Figure size 432x288 with 1 Axes>"
      ]
     },
     "metadata": {
      "needs_background": "light"
     },
     "output_type": "display_data"
    }
   ],
   "source": [
    "labels = ['0 a 1996', '1996 a 4990', '4990 a 8982', '8982 a 19960', '19960+']\n",
    "x = np.arange(len(labels))  # the label locations\n",
    "width = 0.2\n",
    "\n",
    "fig, ax = plt.subplots()\n",
    "rects1 = ax.bar(x - width/2, lista_media_agregada, width, label='Redação')\n",
    "rects2 = ax.bar(x + width/2, lista_media_agregada_obj, width, label='Objetivas')\n",
    "\n",
    "# Add some text for labels, title and custom x-axis tick labels, etc.\n",
    "ax.set_ylabel('Nota')\n",
    "ax.set_xlabel('Renda')\n",
    "ax.set_title('Nota Média no ENEM 2019 por Renda')\n",
    "ax.set_xticks(x)\n",
    "ax.set_xticklabels(labels)\n",
    "ax.legend()\n",
    "\n",
    "\n",
    "\n",
    "\n",
    "fig.tight_layout()\n",
    "\n",
    "plt.savefig('graficoenem.png')"
   ]
  },
  {
   "cell_type": "code",
   "execution_count": null,
   "metadata": {},
   "outputs": [],
   "source": []
  }
 ],
 "metadata": {
  "kernelspec": {
   "display_name": "Python 3",
   "language": "python",
   "name": "python3"
  },
  "language_info": {
   "codemirror_mode": {
    "name": "ipython",
    "version": 3
   },
   "file_extension": ".py",
   "mimetype": "text/x-python",
   "name": "python",
   "nbconvert_exporter": "python",
   "pygments_lexer": "ipython3",
   "version": "3.7.6"
  }
 },
 "nbformat": 4,
 "nbformat_minor": 2
}
